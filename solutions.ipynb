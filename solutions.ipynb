{
 "cells": [
  {
   "cell_type": "markdown",
   "metadata": {},
   "source": [
    "## 1. Split Strings\n",
    "\n",
    "Complete the solution so that it splits the string into pairs of two characters. If the string contains an odd number of characters then it should replace the missing second character of the final pair with an underscore ('_').\n",
    "\n",
    "Examples:\n",
    "\n",
    "* 'abc' =>  ['ab', 'c_']\n",
    "* 'abcdef' => ['ab', 'cd', 'ef']"
   ]
  },
  {
   "cell_type": "code",
   "execution_count": 6,
   "metadata": {
    "vscode": {
     "languageId": "java"
    }
   },
   "outputs": [
    {
     "data": {
      "text/plain": [
       "[ab, c_]"
      ]
     },
     "execution_count": 6,
     "metadata": {},
     "output_type": "execute_result"
    }
   ],
   "source": [
    "import java.util.Arrays;\n",
    "import java.util.List;\n",
    "import java.util.stream.Collectors;\n",
    "import java.util.stream.IntStream;\n",
    "\n",
    "public class StringSplit {\n",
    "    public static String[] solution(String s) {\n",
    "        //Write your code here\n",
    "      final String data;\n",
    "      if(s.length()%2!=0) {\n",
    "        data = s + '_';\n",
    "      }\n",
    "      else {\n",
    "        data = s;\n",
    "      }\n",
    "      List<String> pairs = IntStream.range(0, data.length()/2).mapToObj(i -> data.substring(i*2, i*2 +2)).collect(Collectors.toList());\n",
    "      \n",
    "      return pairs.toArray(String[]::new);\n",
    "    }\n",
    "}\n",
    "\n",
    "Arrays.toString(StringSplit.solution(\"abc\"))"
   ]
  },
  {
   "cell_type": "markdown",
   "metadata": {},
   "source": [
    "## 2. Create Phone Number\n",
    "\n",
    "Write a function that accepts an array of 10 integers (between 0 and 9), that returns a string of those numbers in the form of a phone number.\n",
    "\n",
    "Example\n",
    "Kata.createPhoneNumber(new int[] {1, 2, 3, 4, 5, 6, 7, 8, 9, 0}) // => returns \"(123) 456-7890\"\n",
    "The returned format must be correct in order to complete this challenge.\n",
    "\n",
    "Don't forget the space after the closing parentheses!"
   ]
  },
  {
   "cell_type": "code",
   "execution_count": 8,
   "metadata": {
    "vscode": {
     "languageId": "java"
    }
   },
   "outputs": [
    {
     "data": {
      "text/plain": [
       "(123) 456-7890"
      ]
     },
     "execution_count": 8,
     "metadata": {},
     "output_type": "execute_result"
    }
   ],
   "source": [
    "import java.util.Arrays;\n",
    "\n",
    "public class Kata {\n",
    "  public static String createPhoneNumber(int[] numbers) {\n",
    "    // Your code here!\n",
    "    return String.format(\"(%d%d%d) %d%d%d-%d%d%d%d\", Arrays.stream( numbers ).boxed().toArray());\n",
    "  }\n",
    "}\n",
    "\n",
    "Kata.createPhoneNumber(new int[] {1, 2, 3, 4, 5, 6, 7, 8, 9, 0})"
   ]
  },
  {
   "cell_type": "markdown",
   "metadata": {},
   "source": [
    "## 3. Printer Errors\n",
    "\n",
    "In a factory a printer prints labels for boxes. For one kind of boxes the printer has to use colors which, for the sake of simplicity, are named with letters from a to m.\n",
    "\n",
    "The colors used by the printer are recorded in a control string. For example a \"good\" control string would be aaabbbbhaijjjm meaning that the printer used three times color a, four times color b, one time color h then one time color a...\n",
    "\n",
    "Sometimes there are problems: lack of colors, technical malfunction and a \"bad\" control string is produced e.g. aaaxbbbbyyhwawiwjjjwwm with letters not from a to m.\n",
    "\n",
    "You have to write a function printer_error which given a string will return the error rate of the printer as a string representing a rational whose numerator is the number of errors and the denominator the length of the control string. Don't reduce this fraction to a simpler expression.\n",
    "\n",
    "The string has a length greater or equal to one and contains only letters from ato z.\n",
    "\n",
    "Examples:\n",
    "```\n",
    "s=\"aaabbbbhaijjjm\"\n",
    "printer_error(s) => \"0/14\"\n",
    "\n",
    "s=\"aaaxbbbbyyhwawiwjjjwwm\"\n",
    "printer_error(s) => \"8/22\"\n",
    "```"
   ]
  },
  {
   "cell_type": "code",
   "execution_count": 10,
   "metadata": {
    "vscode": {
     "languageId": "java"
    }
   },
   "outputs": [
    {
     "data": {
      "text/plain": [
       "8/22"
      ]
     },
     "execution_count": 10,
     "metadata": {},
     "output_type": "execute_result"
    }
   ],
   "source": [
    "public class Printer {\n",
    "    \n",
    "    public static String printerError(String s) {\n",
    "        // your code\n",
    "        long count = s.chars().filter(i -> i<(int)'a' || i>(int)'m').count();\n",
    "        return count + \"/\" + s.length();\n",
    "    }\n",
    "}\n",
    "\n",
    "Printer.printerError(\"aaaxbbbbyyhwawiwjjjwwm\")"
   ]
  },
  {
   "cell_type": "markdown",
   "metadata": {},
   "source": [
    "## 4. Multiples of 3 or 5\n",
    "\n",
    "If we list all the natural numbers below 10 that are multiples of 3 or 5, we get 3, 5, 6 and 9. The sum of these multiples is 23.\n",
    "\n",
    "Finish the solution so that it returns the sum of all the multiples of 3 or 5 below the number passed in.\n",
    "\n",
    "Note: If the number is a multiple of both 3 and 5, only count it once.\n",
    "\n",
    "Courtesy of projecteuler.net (Problem 1)"
   ]
  },
  {
   "cell_type": "code",
   "execution_count": null,
   "metadata": {
    "vscode": {
     "languageId": "java"
    }
   },
   "outputs": [],
   "source": [
    "import java.util.stream.IntStream;\n",
    "\n",
    "public class Solution {\n",
    "\n",
    "  public static int solution(int number) {\n",
    "    //TODO: Code stuff here\n",
    "    return IntStream.range(1, number).filter(i -> i%3==0 || i%5==0).sum();\n",
    "  }\n",
    "}\n",
    "\n",
    "Solution.solution(10)"
   ]
  },
  {
   "cell_type": "markdown",
   "metadata": {},
   "source": [
    "## 5. Can you get the loop ?\n",
    "\n",
    "You are given a node that is the beginning of a linked list. This list contains a dangling piece and a loop. Your objective is to determine the length of the loop.\n",
    "\n",
    "For example in the following picture the size of the dangling piece is 3 and the loop size is 12:\n",
    "\n",
    "<img src=\"https://github.com/user-attachments/assets/e7affb67-4399-4b7b-9163-94a70e8dfe0c\" width=\"400\"/>\n",
    "\n",
    "// Use the `getNext()` method to get the following node.\n",
    "node.getNext()\n",
    "Notes:\n",
    "\n",
    "do NOT mutate the nodes!\n",
    "in some cases there may be only a loop, with no dangling piece\n",
    "Thanks to shadchnev, I broke all of the methods from the Hash class.\n",
    "\n",
    "Don't miss dmitry's article in the discussion after you pass the Kata !! "
   ]
  },
  {
   "cell_type": "code",
   "execution_count": null,
   "metadata": {
    "vscode": {
     "languageId": "java"
    }
   },
   "outputs": [],
   "source": [
    "import java.util.Map;\n",
    "import java.util.HashMap;\n",
    "\n",
    "public class LoopInspector {\n",
    "  \n",
    "  Map<Integer, Integer> nodeMap = new HashMap<>();\n",
    "\n",
    "  public int loopSize(Node node) {\n",
    "    Integer counter = 1;\n",
    "    while(!nodeMap.containsKey(node.hashCode())) {\n",
    "      nodeMap.put(node.hashCode(), counter);\n",
    "      counter++;\n",
    "      node = node.getNext();\n",
    "    }\n",
    "    return counter - nodeMap.get(node.hashCode());\n",
    "  }\n",
    "\n",
    "}"
   ]
  },
  {
   "cell_type": "markdown",
   "metadata": {},
   "source": [
    "## 6. Give me a Diamond\n",
    "\n",
    "Jamie is a programmer, and James' girlfriend. She likes diamonds, and wants a diamond string from James. Since James doesn't know how to make this happen, he needs your help.\n",
    "\n",
    "Task\n",
    "You need to return a string that looks like a diamond shape when printed on the screen, using asterisk (*) characters. Trailing spaces should be removed, and every line must be terminated with a newline character (\\n).\n",
    "\n",
    "Return null/nil/None/... if the input is an even number or negative, as it is not possible to print a diamond of even or negative size.\n",
    "\n",
    "Examples\n",
    "A size 3 diamond:\n",
    "```\n",
    " *\n",
    "***\n",
    " *\n",
    "```\n",
    "...which would appear as a string of \" *\\n***\\n *\\n\"\n",
    "\n",
    "A size 5 diamond:\n",
    "```\n",
    "  *\n",
    " ***\n",
    "*****\n",
    " ***\n",
    "  *\n",
    "```\n",
    "...that is:\n",
    "```\n",
    "\"  *\\n ***\\n*****\\n ***\\n  *\\n\"\n",
    "```"
   ]
  },
  {
   "cell_type": "code",
   "execution_count": null,
   "metadata": {
    "vscode": {
     "languageId": "java"
    }
   },
   "outputs": [],
   "source": [
    "class Diamond {\n",
    "  public static String print(int n) {\n",
    "    // TODO your code here\n",
    "    if(n%2==0 || n<0) {\n",
    "      return null;\n",
    "    }\n",
    "    String result = \"\";\n",
    "    int count = 1;\n",
    "    while(count<=n) {\n",
    "      result += \" \".repeat((n-count)/2);\n",
    "      result += \"*\".repeat(count) + \"\\n\";\n",
    "      count += 2;\n",
    "    }\n",
    "    count = n-2;\n",
    "    while(count>0) {\n",
    "      System.out.println(n-count);\n",
    "      result += \" \".repeat((n-count)/2);\n",
    "      result += \"*\".repeat(count) + \"\\n\";\n",
    "      count -= 2;\n",
    "    }\n",
    "    return result;\n",
    "\t}\n",
    "}"
   ]
  }
 ],
 "metadata": {
  "kernelspec": {
   "display_name": "Java",
   "language": "java",
   "name": "java"
  },
  "language_info": {
   "codemirror_mode": "java",
   "file_extension": ".jshell",
   "mimetype": "text/x-java-source",
   "name": "Java",
   "pygments_lexer": "java",
   "version": "15.0.3+3-Ubuntu-1"
  }
 },
 "nbformat": 4,
 "nbformat_minor": 2
}
